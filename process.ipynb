{
 "cells": [
  {
   "cell_type": "code",
   "execution_count": 1,
   "id": "26753068-dfa6-4172-9e9b-a144900b7495",
   "metadata": {},
   "outputs": [],
   "source": [
    "import os\n",
    "\n",
    "import numpy as np\n",
    "import xarray as xr"
   ]
  },
  {
   "cell_type": "markdown",
   "id": "1d9e08b7-0feb-418a-89ca-16cf388357b9",
   "metadata": {},
   "source": [
    "In this notebook we create a dataset containing the zonal mean fields of quantities relevant to the residual circulation &mdash; namely, $u$, $v$, $w$, and $T$ &mdash; as well as the residual circulation components $\\bar{v}^\\ast$ and $\\bar{w}^\\ast$ themselves. Seviour et al. (2012) suggest that six-hourly resolution is necessary to capture the diurnal variability of the residual upwelling. Fortunately, there is an ERA5 dataset on disk ([633.1](https://rda.ucar.edu/datasets/ds633.1/)) of monthly mean data derived from the original six-hourly resolution.\n",
    "\n",
    "We begin by setting the appropriate directory and enumerating the available years."
   ]
  },
  {
   "cell_type": "code",
   "execution_count": 2,
   "id": "259d9f61-00dd-4766-9b6c-ec763a477357",
   "metadata": {},
   "outputs": [
    {
     "name": "stdout",
     "output_type": "stream",
     "text": [
      "Found 43 years of ERA5 data, starting with 1979 and ending with 2021.\n"
     ]
    }
   ],
   "source": [
    "era_dir = '/gpfs/fs1/collections/rda/data/ds633.1/e5.moda.an.pl'\n",
    "years = [int(x) for x in sorted(os.listdir(era_dir))]\n",
    "\n",
    "print(f'Found {len(years)} years of ERA5 data, starting with {years[0]} and ending with {years[-1]}.')"
   ]
  },
  {
   "cell_type": "markdown",
   "id": "7ea9a33e-fe9f-4770-b2d7-bb388b918367",
   "metadata": {},
   "source": [
    "Now, we will loop over the directories for each year in the dataset and pull the names of the files corresponding to the variables we want."
   ]
  },
  {
   "cell_type": "code",
   "execution_count": 3,
   "id": "62745725-a12a-4580-8cd5-aa6c79148be0",
   "metadata": {},
   "outputs": [
    {
     "name": "stdout",
     "output_type": "stream",
     "text": [
      "Found 215 files out of an expected 215.\n"
     ]
    }
   ],
   "source": [
    "names = ['u', 'v', 'w', 'T', 'Z']\n",
    "\n",
    "ds_fnames = []\n",
    "for year in years:\n",
    "    year_dir = f'{era_dir}/{year}'\n",
    "    fnames = [x for x in os.listdir(year_dir) if x.endswith('nc')]\n",
    "    \n",
    "    for name in names:\n",
    "        fname = [x for x in fnames if f'_{name.lower()}.' in x][0]\n",
    "        ds_fnames.append(f'{year_dir}/{fname}')\n",
    "        \n",
    "print(f'Found {len(ds_fnames)} files out of an expected {len(years) * len(names)}.')"
   ]
  },
  {
   "cell_type": "markdown",
   "id": "3cea794a-aefb-4caa-b0fc-90a3efc6c896",
   "metadata": {},
   "source": [
    "Now, `xr.open_mfdataset` gives us an easy way to create an `xr.Dataset` containing the data from all the files above without loading everything into memory at once, which would be prohibitive. Below we open such a dataset and prepare it for use in calculating the residual circulation. Seviour et al. (2012) use a log-pressure vertical coordinate\n",
    "$$z \\equiv -H \\log \\frac{p}{p_{\\textrm{surf}}}$$\n",
    "with scale height $H = 6800 \\textrm{ m}$. (At least, I believe that's what they mean &mdash; their description of the vertical coordinate seems to contain some typos.) They also define the reference density profile\n",
    "$$\\rho = \\exp \\left(-\\frac{z}{H}\\right)$$\n",
    "We convert the dataset's vertical coordinate to $z$ defined above, since most the vertical differentiation we perform later will be with respect to $z$. We also convert the latitude coordinate to be in radians, so that trigonometric operations on the latitude are easier later on."
   ]
  },
  {
   "cell_type": "code",
   "execution_count": 4,
   "id": "0186bf10-21c9-4e45-9bf3-a82c7e2d6e07",
   "metadata": {},
   "outputs": [
    {
     "data": {
      "text/plain": [
       "<xarray.Dataset>\n",
       "Dimensions:    (latitude: 721, longitude: 1440, time: 516, z: 37)\n",
       "Coordinates:\n",
       "  * latitude   (latitude) float64 1.571 1.566 1.562 ... -1.562 -1.566 -1.571\n",
       "  * z          (z) float64 4.697e+04 4.226e+04 3.95e+04 ... 348.8 172.2 -0.0\n",
       "  * longitude  (longitude) float64 0.0 0.25 0.5 0.75 ... 359.0 359.2 359.5 359.8\n",
       "  * time       (time) datetime64[ns] 1979-01-01 1979-02-01 ... 2021-12-01\n",
       "Data variables:\n",
       "    T          (time, z, latitude, longitude) float32 dask.array<shape=(516, 37, 721, 1440), chunksize=(12, 37, 721, 1440)>\n",
       "    u          (time, z, latitude, longitude) float32 dask.array<shape=(516, 37, 721, 1440), chunksize=(12, 37, 721, 1440)>\n",
       "    v          (time, z, latitude, longitude) float32 dask.array<shape=(516, 37, 721, 1440), chunksize=(12, 37, 721, 1440)>\n",
       "    w          (time, z, latitude, longitude) float32 dask.array<shape=(516, 37, 721, 1440), chunksize=(12, 37, 721, 1440)>\n",
       "    Phi        (time, z, latitude, longitude) float32 dask.array<shape=(516, 37, 721, 1440), chunksize=(12, 37, 721, 1440)>\n",
       "    p          (z) float64 100.0 200.0 300.0 500.0 ... 9.5e+04 9.75e+04 1e+05\n",
       "    rho        (z) float64 0.001 0.002 0.003 0.005 ... 0.925 0.95 0.975 1.0\n",
       "Attributes:\n",
       "    DATA_SOURCE:          ECMWF: https://cds.climate.copernicus.eu, Copernicu...\n",
       "    NETCDF_CONVERSION:    CISL RDA: Conversion from ECMWF GRIB 1 data to netC...\n",
       "    NETCDF_VERSION:       4.6.1\n",
       "    CONVERSION_PLATFORM:  Linux casper04 3.10.0-693.21.1.el7.x86_64 #1 SMP We...\n",
       "    CONVERSION_DATE:      Fri Nov  8 18:03:42 MST 2019\n",
       "    Conventions:          CF-1.6\n",
       "    NETCDF_COMPRESSION:   NCO: Precision-preserving compression to netCDF4/HD...\n",
       "    history:              Fri Nov  8 18:03:52 2019: ncks -4 --ppc default=7 e...\n",
       "    NCO:                  netCDF Operators version 4.7.9 (Homepage = http://n..."
      ]
     },
     "metadata": {},
     "output_type": "display_data"
    }
   ],
   "source": [
    "with xr.open_mfdataset(ds_fnames, combine='by_coords') as ds:\n",
    "    ds = ds.rename({\n",
    "        'level' : 'z',\n",
    "        'U' : 'u',\n",
    "        'V' : 'v',\n",
    "        'W' : 'w',\n",
    "        'Z' : 'Phi'\n",
    "    }).drop('utc_date')\n",
    "    \n",
    "    p = (100 * ds['z']).assign_attrs(units='Pa')\n",
    "    lat = (np.pi * ds['latitude'] / 180).assign_attrs(units='radians_north')\n",
    "    \n",
    "    H, p_surf = 6800, p[-1]\n",
    "    z = (-H * np.log(p / p_surf)).assign_attrs(units='meters')\n",
    "    rho = np.exp(-z / H)\n",
    "    \n",
    "    ds['p'], ds['rho'] = p, rho\n",
    "    ds = ds.assign_coords(z=z, latitude=lat)\n",
    "    \n",
    "    p, lat, rho = ds['p'], ds['latitude'], ds['rho']\n",
    "    u, v, w_cartesian = ds['u'], ds['v'], ds['w']\n",
    "    T, h = ds['T'], ds['Phi'] / 9.8\n",
    "    \n",
    "    display(ds)"
   ]
  },
  {
   "cell_type": "markdown",
   "id": "2c319e65-9a18-43a2-b679-19f60c3b8482",
   "metadata": {},
   "source": [
    "However, the ERA5 vertical velocity is with respect to the Cartesian vertical coordinate, which I'll denote by $h$. By the chain rule we of course have\n",
    "$$\\frac{\\mathrm{d} z}{\\mathrm{d} t} = \\frac{\\mathrm{d} z}{\\mathrm{d} h}\\frac{\\mathrm{d} h}{\\mathrm{d} t}$$\n",
    "where the left-hand side is the vertical velocity we want to analyze and the last factor on the right-hand side is the ERA5 vertical velocity. In the cell below, we compute the desired $w$ field."
   ]
  },
  {
   "cell_type": "code",
   "execution_count": 5,
   "id": "e17fad8a-bc20-4a62-8f07-a83b3d9e236d",
   "metadata": {},
   "outputs": [],
   "source": [
    "dzdh = 1 / h.differentiate('z')\n",
    "w = dzdh * w_cartesian"
   ]
  },
  {
   "cell_type": "markdown",
   "id": "a70c377f-280f-44d4-884f-e9713695e830",
   "metadata": {},
   "source": [
    "Next, we compute the potential temperature\n",
    "$$\\theta = \\left(\\frac{p_{\\textrm{surf}}}{p}\\right)^{R / c_{\\mathrm{p}}}T$$\n",
    "as well as the buoyancy frequency $N^2 = \\bar{\\theta}_z$. Note that we take $R / c_{\\mathrm{p}} = 0.286$."
   ]
  },
  {
   "cell_type": "code",
   "execution_count": 6,
   "id": "d4e91af8-2baf-475a-a231-b700f8c97d50",
   "metadata": {},
   "outputs": [],
   "source": [
    "theta = T * ((p_surf / p) ** 0.286)\n",
    "theta_bar = theta.mean('longitude')\n",
    "N2 = theta_bar.differentiate('z')"
   ]
  },
  {
   "cell_type": "markdown",
   "id": "83e52c9f-5f9c-47b2-85e6-9a72910b15ad",
   "metadata": {},
   "source": [
    "We are now in a position to compute the components of the residual circulation according to\n",
    "$$\\bar{v}^\\ast = \\bar{v} - \\frac{1}{\\rho}\\left(\\frac{\\rho\\overline{v'\\theta'}}{N^2}\\right)_z$$\n",
    "and\n",
    "$$\\bar{w}^\\ast = \\bar{w} + \\frac{1}{a\\cos\\vartheta}\\left(\\cos\\vartheta \\frac{\\overline{v'\\theta'}}{N^2}\\right)_{\\vartheta}$$\n",
    "where $\\vartheta$ is the latitude and $a$ is the radius of the Earth."
   ]
  },
  {
   "cell_type": "code",
   "execution_count": 7,
   "id": "f84d0500-4bc0-4b44-8c03-ebbb28f5a1d1",
   "metadata": {},
   "outputs": [],
   "source": [
    "v_bar = v.mean('longitude')\n",
    "w_bar = w.mean('longitude')\n",
    "\n",
    "v_prime = v - v_bar\n",
    "w_prime = w - w_bar\n",
    "\n",
    "theta_prime = theta - theta_bar\n",
    "heat_flux = (v_prime * theta_prime).mean('longitude')\n",
    "\n",
    "a, cos_lat = 6.37e6, np.cos(lat)\n",
    "v_star = v_bar - (rho * heat_flux / N2).differentiate('z') / rho\n",
    "w_star = w_bar + (cos_lat * heat_flux / N2).differentiate('latitude') / (a * cos_lat)"
   ]
  },
  {
   "cell_type": "markdown",
   "id": "7494954b-cae8-4aff-97f2-4d600e7a2cb0",
   "metadata": {},
   "source": [
    "Before saving to disk, we'll also compute the Eliassen-Palm flux divergence, scaled as in Seviour et al. (2012) like\n",
    "$$\\textrm{EPFD} = \\frac{\\nabla \\cdot \\mathbf{F}}{\\rho a \\cos\\vartheta}$$\n",
    "where the horizontal and vertical components of the Eliassen-Palm flux are\n",
    "$$F^{(\\vartheta)} = \\rho a \\cos\\vartheta \\left(\\bar{u}_z \\frac{\\overline{v'\\theta'}}{N^2} - \\overline{u'v'}\\right)$$\n",
    "and\n",
    "$$F^{(z)} = \\rho a \\cos\\vartheta \\left[ \\left(f - \\frac{(\\bar{u} \\cos\\vartheta)_\\vartheta}{a\\cos\\vartheta}\\right) \\frac{\\overline{v'\\theta'}}{N^2} - \\overline{u'w'} \\right]$$"
   ]
  },
  {
   "cell_type": "code",
   "execution_count": 8,
   "id": "f41308e9-5cec-40f6-92f0-abf50f51f48f",
   "metadata": {},
   "outputs": [],
   "source": [
    "u_bar = u.mean('longitude')\n",
    "u_prime = u - u_bar\n",
    "\n",
    "uv_bar = (u_prime * v_prime).mean('longitude')\n",
    "uw_bar = (u_prime * w_prime).mean('longitude')\n",
    "\n",
    "Omega = 7.292e-5\n",
    "f = 2 * Omega * np.sin(lat)\n",
    "offset = (u_bar * cos_lat).differentiate('latitude') / (a * cos_lat)\n",
    "\n",
    "F_lat = (u_bar.differentiate('z') * heat_flux / N2 - uv_bar) * rho * a * cos_lat\n",
    "F_z = ((f - offset) * heat_flux / N2 - uw_bar) * rho * a * cos_lat\n",
    "EPFD = (F_lat.differentiate('latitude') + F_z.differentiate('z')) / (rho * a * cos_lat)"
   ]
  },
  {
   "cell_type": "markdown",
   "id": "92a3135b-5fd1-4876-aa95-dc0dff1ad37a",
   "metadata": {},
   "source": [
    "Now, we'll assemble a dataset with the circulation features of note and save it to disk after taking a zonal mean to keep the size manageable. Note that it is only at this point that the actual calculations are done, so the `to_netcdf` call below takes some time. Before saving, we also go back to a pressure vertical coordinate and latitude expressed in degrees, for ease of analysis later."
   ]
  },
  {
   "cell_type": "code",
   "execution_count": 9,
   "id": "c619a549-9531-4d8a-b145-3ce283e5ffef",
   "metadata": {},
   "outputs": [
    {
     "data": {
      "text/plain": [
       "<xarray.Dataset>\n",
       "Dimensions:    (latitude: 721, pressure: 37, time: 516)\n",
       "Coordinates:\n",
       "  * latitude   (latitude) float64 90.0 89.75 89.5 89.25 ... -89.5 -89.75 -90.0\n",
       "  * pressure   (pressure) float64 1.0 2.0 3.0 5.0 ... 925.0 950.0 975.0 1e+03\n",
       "  * time       (time) datetime64[ns] 1979-01-01 1979-02-01 ... 2021-12-01\n",
       "Data variables:\n",
       "    u          (time, pressure, latitude) float32 dask.array<shape=(516, 37, 721), chunksize=(12, 37, 721)>\n",
       "    v          (time, pressure, latitude) float32 dask.array<shape=(516, 37, 721), chunksize=(12, 37, 721)>\n",
       "    w          (time, pressure, latitude) float32 dask.array<shape=(516, 37, 721), chunksize=(12, 37, 721)>\n",
       "    T          (time, pressure, latitude) float32 dask.array<shape=(516, 37, 721), chunksize=(12, 37, 721)>\n",
       "    h          (time, pressure, latitude) float32 dask.array<shape=(516, 37, 721), chunksize=(12, 37, 721)>\n",
       "    theta      (time, pressure, latitude) float64 dask.array<shape=(516, 37, 721), chunksize=(12, 37, 721)>\n",
       "    N2         (time, pressure, latitude) float64 dask.array<shape=(516, 37, 721), chunksize=(12, 37, 721)>\n",
       "    heat_flux  (time, pressure, latitude) float64 dask.array<shape=(516, 37, 721), chunksize=(12, 37, 721)>\n",
       "    v_star     (time, pressure, latitude) float64 dask.array<shape=(516, 37, 721), chunksize=(12, 37, 721)>\n",
       "    w_star     (time, pressure, latitude) float64 dask.array<shape=(516, 37, 721), chunksize=(12, 37, 721)>\n",
       "    EPFD       (time, pressure, latitude) float64 dask.array<shape=(516, 37, 721), chunksize=(12, 37, 721)>"
      ]
     },
     "metadata": {},
     "output_type": "display_data"
    }
   ],
   "source": [
    "ds = xr.Dataset({\n",
    "    'u' : u,\n",
    "    'v' : v,\n",
    "    'w' : w_cartesian,\n",
    "    'T' : T,\n",
    "    'h' : h,\n",
    "    'theta' : theta,\n",
    "    'N2' : N2,\n",
    "    'heat_flux' : heat_flux,\n",
    "    'v_star' : v_star,\n",
    "    'w_star' : w_star,\n",
    "    'EPFD' : EPFD\n",
    "}).mean('longitude').rename({'z' : 'pressure'})\n",
    "\n",
    "p = (p_surf * np.exp(-ds['pressure'] / H) / 100).assign_attrs(units='hPa')\n",
    "lat = (180 * ds['latitude'] / np.pi).assign_attrs(units='degrees_north')\n",
    "ds = ds.assign_coords(pressure=p, latitude=lat).drop('z')\n",
    "\n",
    "display(ds)\n",
    "ds.to_netcdf('/glade/work/dconnell/brewson/data.nc')"
   ]
  }
 ],
 "metadata": {
  "kernelspec": {
   "display_name": "Pangeo (2019.09.12 - py3.7)",
   "language": "python",
   "name": "pangeo-2019.09.12"
  },
  "language_info": {
   "codemirror_mode": {
    "name": "ipython",
    "version": 3
   },
   "file_extension": ".py",
   "mimetype": "text/x-python",
   "name": "python",
   "nbconvert_exporter": "python",
   "pygments_lexer": "ipython3",
   "version": "3.7.3"
  }
 },
 "nbformat": 4,
 "nbformat_minor": 5
}
