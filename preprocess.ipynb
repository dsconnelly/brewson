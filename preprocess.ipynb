{
 "cells": [
  {
   "cell_type": "code",
   "execution_count": 1,
   "id": "51aa7841-b833-493a-b621-ad2127da5036",
   "metadata": {},
   "outputs": [],
   "source": [
    "import copy\n",
    "import os\n",
    "\n",
    "import numpy as np\n",
    "import xarray as xr\n",
    "\n",
    "from tqdm import tqdm"
   ]
  },
  {
   "cell_type": "markdown",
   "id": "ea822c98-87cf-4a2b-a9f1-2df5082bb9b3",
   "metadata": {},
   "source": [
    "In this notebook, we read the ERA5 data stored on `/glade` and save the necessary variables in a more accessible manner locally. Specifically, we will read $u$, $v$, $w$, $T$, and $Z$ (where $Z$ is the geopotential), as well as the coordinate variables $\\vartheta$ and $p$. Seviour et al. (2012) suggest that six-hourly resolution is necessary to capture the diurnal variability of the residual upwelling. Fortunately, there is an ERA5 dataset on disk ([633.1](https://rda.ucar.edu/datasets/ds633.1/)) of monthly mean data derived from the original six-hourly resolution. To reduce the size of the data we store locally, we will only store DJF and JJA averages.\n",
    "\n",
    "We begin by setting the appropriate directory and enumerating the available years."
   ]
  },
  {
   "cell_type": "code",
   "execution_count": 2,
   "id": "f39b0bff-3e69-487c-b939-5ef18696edea",
   "metadata": {},
   "outputs": [
    {
     "name": "stdout",
     "output_type": "stream",
     "text": [
      "Found 43 years of ERA5 data, starting with 1979 and ending with 2021.\n"
     ]
    }
   ],
   "source": [
    "era_dir = '/gpfs/fs1/collections/rda/data/ds633.1/e5.moda.an.pl'\n",
    "years = [int(x) for x in sorted(os.listdir(era_dir))]\n",
    "n_year = len(years)\n",
    "\n",
    "print(f'Found {n_year} years of ERA5 data, starting with {years[0]} and ending with {years[-1]}.')"
   ]
  },
  {
   "cell_type": "markdown",
   "id": "12d23c1b-2703-4737-9765-15b116a76537",
   "metadata": {},
   "source": [
    "Unfortunately, the full dataset is rather too large to work with cleanly in memory, even with seasonal means taken, so we will create an `xr.Dataset` for each year and save it to disk. Below, we write a function to initialize a new `Dataset` for each year. For convenience, we pull the three spatial coordinates (pressure, latitude, and longitude) from one of the existing ERA5 files."
   ]
  },
  {
   "cell_type": "code",
   "execution_count": 3,
   "id": "b0a8f385-a559-48b4-af02-98b09052ec42",
   "metadata": {},
   "outputs": [],
   "source": [
    "coords_template = {\n",
    "    'year' : [None],\n",
    "    'season' : ['DJF', 'JJA']\n",
    "}\n",
    "\n",
    "fname = 'e5.moda.an.pl.128_131_u.ll025uv.1979010100_1979120100.nc'\n",
    "with xr.open_dataset(f'{era_dir}/1979/{fname}') as f:\n",
    "    coords_template['level'] = f['level']\n",
    "    coords_template['latitude'] = f['latitude']\n",
    "    coords_template['longitude'] = f['longitude']\n",
    "\n",
    "shape = tuple(len(a) for _, a in coords_template.items())\n",
    "names = ['u', 'v', 'w', 'T', 'Z']\n",
    "\n",
    "def initialize_dataset(year):\n",
    "    coords = copy.deepcopy(coords_template)\n",
    "    coords['year'] = [year]\n",
    "    data = {name : (coords.keys(), np.zeros(shape)) for name in names}\n",
    "    \n",
    "    return xr.Dataset(data, coords)"
   ]
  },
  {
   "cell_type": "markdown",
   "id": "608e2503-c4d5-4e00-bd45-7bab45114872",
   "metadata": {},
   "source": [
    "After defining the indices for the appropriate months for each season, we are now ready to step through the years, selecting the appropriate file for each variable and computing the seasonal averages we want. Using the initialization function defined above, we create a new `Dataset` for each year and save it to disk before moving on to the next one. We also change the ERA5 notation for geopotential $Z$ to the more conventional $\\Phi$ before saving."
   ]
  },
  {
   "cell_type": "code",
   "execution_count": 4,
   "id": "271ef36b-0e0a-4c49-acee-6bcccd084063",
   "metadata": {},
   "outputs": [
    {
     "name": "stderr",
     "output_type": "stream",
     "text": [
      "100%|██████████| 43/43 [28:35<00:00, 39.88s/year]\n"
     ]
    }
   ],
   "source": [
    "idxs = {\n",
    "    'DJF' : np.array([11, 0, 1]),\n",
    "    'JJA' : np.array([5, 6, 7])\n",
    "}\n",
    "\n",
    "output_dir = '/glade/work/dconnell/brewson'\n",
    "for year in tqdm(years, unit='year'):\n",
    "    ds = initialize_dataset(year)\n",
    "    year_dir = f'{era_dir}/{year}'\n",
    "    fnames = [x for x in os.listdir(year_dir) if x.endswith('.nc')]\n",
    "    \n",
    "    for name in names:\n",
    "        fname = [x for x in fnames if f'_{name.lower()}.' in x][0]\n",
    "        with xr.open_dataset(f'{year_dir}/{fname}') as f:\n",
    "            for season, idx in idxs.items():\n",
    "                ds[name].loc[dict(season=season)] = f[name.upper()][idx].mean('time')\n",
    "    \n",
    "    ds.rename({'Z' : 'Phi'}).to_netcdf(f'{output_dir}/{year}.nc')"
   ]
  }
 ],
 "metadata": {
  "kernelspec": {
   "display_name": "Pangeo (2019.09.12 - py3.7)",
   "language": "python",
   "name": "pangeo-2019.09.12"
  },
  "language_info": {
   "codemirror_mode": {
    "name": "ipython",
    "version": 3
   },
   "file_extension": ".py",
   "mimetype": "text/x-python",
   "name": "python",
   "nbconvert_exporter": "python",
   "pygments_lexer": "ipython3",
   "version": "3.7.3"
  }
 },
 "nbformat": 4,
 "nbformat_minor": 5
}
