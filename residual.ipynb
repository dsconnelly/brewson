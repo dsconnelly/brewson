{
 "cells": [
  {
   "cell_type": "code",
   "execution_count": 1,
   "id": "158d2ba0-0d2c-4626-a26d-afbb353426ba",
   "metadata": {},
   "outputs": [],
   "source": [
    "import numpy as np"
   ]
  },
  {
   "cell_type": "markdown",
   "id": "33f52d45-4079-4df7-a050-c48c684b266e",
   "metadata": {},
   "source": [
    "In this notebook, we take the data saved in `preprocess.ipynb` and use it to compute the residual circulation. We begin by loading the files saved previously."
   ]
  },
  {
   "cell_type": "code",
   "execution_count": 2,
   "id": "ad9a7bbe-5bc8-4735-96d6-1939e442a2f7",
   "metadata": {},
   "outputs": [],
   "source": [
    "djf = dict(np.load('data/era-djf.npz'))\n",
    "jja = dict(np.load('data/era-jja.npz'))\n",
    "\n",
    "coords = np.load('data/era-coords.npz')\n",
    "p, lat = 100 * coords['p'], coords['lat']"
   ]
  },
  {
   "cell_type": "markdown",
   "id": "8eeefe5d-0a60-48f0-bc23-d348dd3f1450",
   "metadata": {},
   "source": [
    "Now, Seviour et al. (2012) use a log-pressure vertical coordinate\n",
    "$$z \\equiv -H \\log \\frac{p}{p_{\\textrm{surf}}}$$\n",
    "with scale height $H = 6800 \\textrm{ m}$. (At least, I believe that's what they mean &mdash; their description of the vertical coordinate seems to contain some typos.) However, the ERA5 vertical velocity is with respect to the Cartesian vertical coordinate, which I'll denote by $h$. It is straightforward to check that\n",
    "$$\\frac{\\mathrm{d} z}{\\mathrm{d} t} = -\\frac{H}{p} \\frac{\\mathrm{d} p}{\\mathrm{d} h} \\frac{\\mathrm{d} h}{\\mathrm{d} t}$$\n",
    "where the left-hand side is the vertical velocity we want to analyze and the last factor on the right-hand side is the ERA5 vertical velocity. In the cell below, we compute the $z$ coordinate and also compute the full $\\mathrm{d} p / \\mathrm{d} h$ field needed for the correction later."
   ]
  },
  {
   "cell_type": "code",
   "execution_count": 3,
   "id": "81f91fb3-2db9-45e8-9ffc-fc2e3545b28b",
   "metadata": {},
   "outputs": [],
   "source": [
    "H, p_surf = 6800, p[-1]\n",
    "z = -H * np.log(p / p_surf)\n",
    "\n",
    "for data in (djf, jja):\n",
    "    data['h'] = data['Z'] / 9.8\n",
    "    data['dpdh'] = 1 / np.gradient(data['h'], p, axis=0)"
   ]
  }
 ],
 "metadata": {
  "kernelspec": {
   "display_name": "Pangeo (2019.09.12 - py3.7)",
   "language": "python",
   "name": "pangeo-2019.09.12"
  },
  "language_info": {
   "codemirror_mode": {
    "name": "ipython",
    "version": 3
   },
   "file_extension": ".py",
   "mimetype": "text/x-python",
   "name": "python",
   "nbconvert_exporter": "python",
   "pygments_lexer": "ipython3",
   "version": "3.7.3"
  }
 },
 "nbformat": 4,
 "nbformat_minor": 5
}
