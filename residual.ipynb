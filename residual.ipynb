{
 "cells": [
  {
   "cell_type": "code",
   "execution_count": 1,
   "id": "158d2ba0-0d2c-4626-a26d-afbb353426ba",
   "metadata": {},
   "outputs": [],
   "source": [
    "import os\n",
    "\n",
    "import numpy as np\n",
    "import xarray as xr"
   ]
  },
  {
   "cell_type": "markdown",
   "id": "33f52d45-4079-4df7-a050-c48c684b266e",
   "metadata": {},
   "source": [
    "In this notebook, we take the data saved in `preprocess.ipynb` and use it to compute the residual circulation. Seviour et al. (2012) use a log-pressure vertical coordinate\n",
    "$$z \\equiv -H \\log \\frac{p}{p_{\\textrm{surf}}}$$\n",
    "with scale height $H = 6800 \\textrm{ m}$. (At least, I believe that's what they mean &mdash; their description of the vertical coordinate seems to contain some typos.) They also define the reference density profile\n",
    "$$\\rho = \\exp \\left(-\\frac{z}{H}\\right)$$\n",
    "Below, as we load the data, we convert the dataset's vertical dimension to this log-pressure coordinate, since most of the differentiation we perform later will be with respect to $z$."
   ]
  },
  {
   "cell_type": "code",
   "execution_count": 2,
   "id": "ad9a7bbe-5bc8-4735-96d6-1939e442a2f7",
   "metadata": {},
   "outputs": [
    {
     "data": {
      "text/plain": [
       "<xarray.Dataset>\n",
       "Dimensions:    (latitude: 721, longitude: 1440, season: 2, year: 43, z: 37)\n",
       "Coordinates:\n",
       "  * season     (season) object 'DJF' 'JJA'\n",
       "  * z          (z) float64 4.697e+04 4.226e+04 3.95e+04 ... 348.8 172.2 -0.0\n",
       "  * latitude   (latitude) float64 1.571 1.566 1.562 ... -1.562 -1.566 -1.571\n",
       "  * longitude  (longitude) float64 0.0 0.25 0.5 0.75 ... 359.0 359.2 359.5 359.8\n",
       "  * year       (year) int64 1979 1980 1981 1982 1983 ... 2018 2019 2020 2021\n",
       "Data variables:\n",
       "    u          (year, season, z, latitude, longitude) float64 dask.array<shape=(43, 2, 37, 721, 1440), chunksize=(1, 2, 37, 721, 1440)>\n",
       "    v          (year, season, z, latitude, longitude) float64 dask.array<shape=(43, 2, 37, 721, 1440), chunksize=(1, 2, 37, 721, 1440)>\n",
       "    w          (year, season, z, latitude, longitude) float64 dask.array<shape=(43, 2, 37, 721, 1440), chunksize=(1, 2, 37, 721, 1440)>\n",
       "    T          (year, season, z, latitude, longitude) float64 dask.array<shape=(43, 2, 37, 721, 1440), chunksize=(1, 2, 37, 721, 1440)>\n",
       "    Phi        (year, season, z, latitude, longitude) float64 dask.array<shape=(43, 2, 37, 721, 1440), chunksize=(1, 2, 37, 721, 1440)>"
      ]
     },
     "metadata": {},
     "output_type": "display_data"
    }
   ],
   "source": [
    "data_dir = '/glade/work/dconnell/brewson'\n",
    "fnames = [f'{data_dir}/{x}' for x in os.listdir(data_dir)]\n",
    "\n",
    "with xr.open_mfdataset(fnames, combine='by_coords') as ds:\n",
    "    ds = ds.rename({'level' : 'z'})\n",
    "    p = (100 * ds['z']).assign_attrs(units='Pa')\n",
    "    lat = (np.pi * ds['latitude'] / 180).assign_attrs(units='radians_north')\n",
    "    \n",
    "    H, p_surf = 6800, p[-1]\n",
    "    z = (-H * np.log(p / p_surf)).assign_attrs(units='meters')\n",
    "    rho = np.exp(-z / H)\n",
    "    \n",
    "    p = p.assign_coords(z=z)\n",
    "    lat = lat.assign_coords(latitude=lat)\n",
    "    rho = rho.assign_coords(z=z)\n",
    "    \n",
    "    ds = ds.assign_coords(z=z, latitude=lat)\n",
    "    u, v, w_cartesian = ds['u'], ds['v'], ds['w']\n",
    "    T, h = ds['T'], ds['Phi'] / 9.8\n",
    "    \n",
    "    display(ds)"
   ]
  },
  {
   "cell_type": "markdown",
   "id": "b804c2b8-9a82-437d-8b5e-db54cec75893",
   "metadata": {},
   "source": [
    "However, the ERA5 vertical velocity is with respect to the Cartesian vertical coordinate, which I'll denote by $h$. By the chain rule we of course have\n",
    "$$\\frac{\\mathrm{d} z}{\\mathrm{d} t} = \\frac{\\mathrm{d} z}{\\mathrm{d} h}\\frac{\\mathrm{d} h}{\\mathrm{d} t}$$\n",
    "where the left-hand side is the vertical velocity we want to analyze and the last factor on the right-hand side is the ERA5 vertical velocity. In the cell below, we compute the desired $w$ field."
   ]
  },
  {
   "cell_type": "code",
   "execution_count": 3,
   "id": "a25006b4-7233-4969-ba44-116efc1db8b4",
   "metadata": {},
   "outputs": [],
   "source": [
    "dzdh = 1 / h.differentiate('z')\n",
    "w = dzdh * w_cartesian"
   ]
  },
  {
   "cell_type": "markdown",
   "id": "d9794d56-79a5-4499-b925-1ec5ebf5e79b",
   "metadata": {},
   "source": [
    "Moving forward, it will be useful to have a function that performs Reynolds decomposition with a zonal mean. This is easy with `xarray`, and we provide the following wrapper."
   ]
  },
  {
   "cell_type": "code",
   "execution_count": 4,
   "id": "7e3228e6-0d7f-4d4a-a9e8-715ea728b55c",
   "metadata": {},
   "outputs": [],
   "source": [
    "def decompose(data):\n",
    "    data_bar = data.mean('longitude')\n",
    "    data_prime = data - data_bar\n",
    "    \n",
    "    return data_bar, data_prime"
   ]
  },
  {
   "cell_type": "markdown",
   "id": "f805cd0b-8cf0-4a65-87a4-82cb66b6cd78",
   "metadata": {},
   "source": [
    "Next, we compute the potential temperature\n",
    "$$\\theta = \\left(\\frac{p_{\\textrm{surf}}}{p}\\right)^{R / c_{\\mathrm{p}}}T$$\n",
    "as well as the buoyancy frequency $N^2 = \\bar{\\theta}_z$. Note that we take $R / c_{\\mathrm{p}} = 0.286$."
   ]
  },
  {
   "cell_type": "code",
   "execution_count": 5,
   "id": "3e5d6175-419d-4d90-8444-4c994e57f5fa",
   "metadata": {},
   "outputs": [],
   "source": [
    "theta = T * ((p_surf / p) ** 0.286)\n",
    "theta_bar, theta_prime = decompose(theta)\n",
    "N2 = theta_bar.differentiate('z')"
   ]
  },
  {
   "cell_type": "markdown",
   "id": "f5199f93-2bd5-4859-90dc-e82e5e4acd33",
   "metadata": {},
   "source": [
    "We are now in a position to compute the components of the residual circulation according to\n",
    "$$\\bar{v}^\\ast = \\bar{v} - \\frac{1}{\\rho}\\left(\\frac{\\rho\\overline{v'\\theta'}}{N^2}\\right)_z$$\n",
    "and\n",
    "$$\\bar{w}^\\ast = \\bar{w} + \\frac{1}{a\\cos\\vartheta}\\left(\\cos\\vartheta \\frac{\\overline{v'\\theta'}}{N^2}\\right)_{\\vartheta}$$\n",
    "where $\\vartheta$ is the latitude and $a$ is the radius of the Earth."
   ]
  },
  {
   "cell_type": "code",
   "execution_count": 6,
   "id": "02ce0680-0f4a-4c0b-8393-41a6935a3703",
   "metadata": {},
   "outputs": [],
   "source": [
    "v_bar, v_prime = decompose(v)\n",
    "w_bar, _ = decompose(w)\n",
    "theta_flux = (v_prime * theta_prime).mean('longitude')\n",
    "\n",
    "v_star = v_bar - (rho * theta_flux / N2).differentiate('z') / rho\n",
    "w_star = w_bar + (np.cos(lat) * theta_flux / N2).differentiate('latitude') / (6.37e6 * np.cos(lat))"
   ]
  }
 ],
 "metadata": {
  "kernelspec": {
   "display_name": "Pangeo (2019.09.12 - py3.7)",
   "language": "python",
   "name": "pangeo-2019.09.12"
  },
  "language_info": {
   "codemirror_mode": {
    "name": "ipython",
    "version": 3
   },
   "file_extension": ".py",
   "mimetype": "text/x-python",
   "name": "python",
   "nbconvert_exporter": "python",
   "pygments_lexer": "ipython3",
   "version": "3.7.3"
  }
 },
 "nbformat": 4,
 "nbformat_minor": 5
}
